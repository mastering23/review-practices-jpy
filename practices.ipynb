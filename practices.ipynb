{
 "cells": [
  {
   "cell_type": "code",
   "execution_count": 7,
   "id": "69b94335-a180-4dc2-9b5e-bafefd2de2a6",
   "metadata": {},
   "outputs": [],
   "source": [
    "#f-string\n",
    "# Print an f-string that displays NLP stands for Natural Language processing using the variables provided."
   ]
  },
  {
   "cell_type": "code",
   "execution_count": 1,
   "id": "04300c72-28ac-4a69-a4a2-d6fe0466946c",
   "metadata": {},
   "outputs": [],
   "source": [
    "abbr ='NLP'"
   ]
  },
  {
   "cell_type": "code",
   "execution_count": 3,
   "id": "c5ec942f-b985-4158-9dca-1e28921aa9a8",
   "metadata": {},
   "outputs": [],
   "source": [
    "full_text = 'Natural Language Processing'"
   ]
  },
  {
   "cell_type": "code",
   "execution_count": 5,
   "id": "4c896e4c-f5e4-4dec-a502-6b20e804f3b1",
   "metadata": {},
   "outputs": [
    {
     "name": "stdout",
     "output_type": "stream",
     "text": [
      "NLP stands for Natural Language Processing\n"
     ]
    }
   ],
   "source": [
    "print(f'{abbr} stands for {full_text}')"
   ]
  },
  {
   "cell_type": "code",
   "execution_count": 9,
   "id": "38418420-971b-4cee-bbc6-055f211ac471",
   "metadata": {},
   "outputs": [],
   "source": [
    "#Files \n",
    "# Create a file in the current working directory called contacts.txt by running the cel below:"
   ]
  },
  {
   "cell_type": "code",
   "execution_count": 11,
   "id": "87b7c1db-5bfc-4446-9c05-b0531c921a98",
   "metadata": {},
   "outputs": [
    {
     "name": "stdout",
     "output_type": "stream",
     "text": [
      "Writing contacts.txt\n"
     ]
    }
   ],
   "source": [
    "%%writefile contacts.txt\n",
    "First_Name Last_Name, Title, Extension, Email"
   ]
  },
  {
   "cell_type": "code",
   "execution_count": 13,
   "id": "74fc615d-78d9-42a6-af50-6738c5854527",
   "metadata": {},
   "outputs": [],
   "source": [
    "#Open the file and use .read() to save the contents of the file to a string called fields.\n",
    "#Make sure the file is closed at the end. "
   ]
  },
  {
   "cell_type": "code",
   "execution_count": 37,
   "id": "646a2b82-63ef-40fe-938f-bff5a4ecc4b1",
   "metadata": {},
   "outputs": [],
   "source": [
    "myfile = open('contacts.txt')"
   ]
  },
  {
   "cell_type": "code",
   "execution_count": 39,
   "id": "81327517-3f08-4eca-8ae3-75c464daea7c",
   "metadata": {},
   "outputs": [
    {
     "data": {
      "text/plain": [
       "'First_Name Last_Name, Title, Extension, Email\\n'"
      ]
     },
     "execution_count": 39,
     "metadata": {},
     "output_type": "execute_result"
    }
   ],
   "source": [
    "myfile.read()"
   ]
  },
  {
   "cell_type": "code",
   "execution_count": 55,
   "id": "e7765841-9b7d-4f2d-bf13-39c3d723c6c5",
   "metadata": {},
   "outputs": [
    {
     "data": {
      "text/plain": [
       "0"
      ]
     },
     "execution_count": 55,
     "metadata": {},
     "output_type": "execute_result"
    }
   ],
   "source": [
    "myfile.seek(0)"
   ]
  },
  {
   "cell_type": "code",
   "execution_count": 57,
   "id": "7b47083e-6272-488e-bb0e-b2321c2b14a7",
   "metadata": {},
   "outputs": [],
   "source": [
    "fields = myfile.read()"
   ]
  },
  {
   "cell_type": "code",
   "execution_count": 59,
   "id": "9fff3981-fa18-4319-9209-83bc1c08f33f",
   "metadata": {},
   "outputs": [
    {
     "name": "stdout",
     "output_type": "stream",
     "text": [
      "First_Name Last_Name, Title, Extension, Email\n",
      "\n"
     ]
    }
   ],
   "source": [
    "print(fields)"
   ]
  },
  {
   "cell_type": "code",
   "execution_count": 61,
   "id": "f8440dc3-ea53-4853-835a-d859df79d13c",
   "metadata": {},
   "outputs": [],
   "source": [
    "myfile.close()"
   ]
  },
  {
   "cell_type": "code",
   "execution_count": 65,
   "id": "1d4f0a6d-cc15-4388-8b1e-8623468ac4fe",
   "metadata": {},
   "outputs": [],
   "source": [
    "#Working with PDF Files \n",
    "# Use PyPDF2 to open the file Business_Proposal.pdf. Extract the text of page 2."
   ]
  },
  {
   "cell_type": "code",
   "execution_count": 73,
   "id": "d696f9d2-c0a9-4a5a-b437-0e708709362e",
   "metadata": {},
   "outputs": [
    {
     "name": "stdout",
     "output_type": "stream",
     "text": [
      "Collecting PyPDF2\n",
      "  Downloading pypdf2-3.0.1-py3-none-any.whl.metadata (6.8 kB)\n",
      "Downloading pypdf2-3.0.1-py3-none-any.whl (232 kB)\n",
      "Installing collected packages: PyPDF2\n",
      "Successfully installed PyPDF2-3.0.1\n",
      "Note: you may need to restart the kernel to use updated packages.\n"
     ]
    }
   ],
   "source": [
    "pip install PyPDF2"
   ]
  },
  {
   "cell_type": "code",
   "execution_count": 75,
   "id": "e13e96ac-74f2-4d0b-9ac2-1a14f8e32ed4",
   "metadata": {},
   "outputs": [],
   "source": [
    "import  PyPDF2"
   ]
  },
  {
   "cell_type": "code",
   "execution_count": 83,
   "id": "e5d1a7f6-6890-443c-9f22-2bc55bfbf699",
   "metadata": {},
   "outputs": [],
   "source": [
    "pdf_path = \"Business_Proposal.pdf\"\n",
    "mypdf = open(pdf_path,'rb')"
   ]
  },
  {
   "cell_type": "code",
   "execution_count": 91,
   "id": "f450cba0-6b7b-45d3-9925-28654ef251b0",
   "metadata": {},
   "outputs": [],
   "source": [
    "pdf_reader = PyPDF2.PdfReader(mypdf)\n",
    "num_pages = len(pdf_reader.pages)"
   ]
  },
  {
   "cell_type": "code",
   "execution_count": 95,
   "id": "7da5c717-e630-478e-a40c-a820023f17db",
   "metadata": {},
   "outputs": [
    {
     "name": "stdout",
     "output_type": "stream",
     "text": [
      "AUTHORS:  \n",
      "Amy Baker, Finance Chair, x345, abaker@ourcompany.com  \n",
      "Chris Donaldson, Accounting Dir., x621, cdonaldson@ourcompany.com  \n",
      "Erin Freeman, Sr. VP, x879, efreeman@ourcompany.com  \n"
     ]
    }
   ],
   "source": [
    "page = pdf_reader.pages[1]\n",
    "text = page.extract_text()\n",
    "print(text)"
   ]
  },
  {
   "cell_type": "code",
   "execution_count": null,
   "id": "a7ab260f-9362-41ea-a9bb-d09a83734ade",
   "metadata": {},
   "outputs": [],
   "source": []
  }
 ],
 "metadata": {
  "kernelspec": {
   "display_name": "Python [conda env:base] *",
   "language": "python",
   "name": "conda-base-py"
  },
  "language_info": {
   "codemirror_mode": {
    "name": "ipython",
    "version": 3
   },
   "file_extension": ".py",
   "mimetype": "text/x-python",
   "name": "python",
   "nbconvert_exporter": "python",
   "pygments_lexer": "ipython3",
   "version": "3.12.7"
  }
 },
 "nbformat": 4,
 "nbformat_minor": 5
}
