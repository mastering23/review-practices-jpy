{
 "cells": [
  {
   "cell_type": "code",
   "execution_count": 7,
   "id": "69b94335-a180-4dc2-9b5e-bafefd2de2a6",
   "metadata": {},
   "outputs": [],
   "source": [
    "#f-string\n",
    "# Print an f-string that displays NLP stands for Natural Language processing using the variables provided."
   ]
  },
  {
   "cell_type": "code",
   "execution_count": 1,
   "id": "04300c72-28ac-4a69-a4a2-d6fe0466946c",
   "metadata": {},
   "outputs": [],
   "source": [
    "abbr ='NLP'"
   ]
  },
  {
   "cell_type": "code",
   "execution_count": 3,
   "id": "c5ec942f-b985-4158-9dca-1e28921aa9a8",
   "metadata": {},
   "outputs": [],
   "source": [
    "full_text = 'Natural Language Processing'"
   ]
  },
  {
   "cell_type": "code",
   "execution_count": 5,
   "id": "4c896e4c-f5e4-4dec-a502-6b20e804f3b1",
   "metadata": {},
   "outputs": [
    {
     "name": "stdout",
     "output_type": "stream",
     "text": [
      "NLP stands for Natural Language Processing\n"
     ]
    }
   ],
   "source": [
    "print(f'{abbr} stands for {full_text}')"
   ]
  },
  {
   "cell_type": "code",
   "execution_count": 9,
   "id": "38418420-971b-4cee-bbc6-055f211ac471",
   "metadata": {},
   "outputs": [],
   "source": [
    "#Files \n",
    "# Create a file in the current working directory called contacts.txt by running the cel below:"
   ]
  },
  {
   "cell_type": "code",
   "execution_count": 11,
   "id": "87b7c1db-5bfc-4446-9c05-b0531c921a98",
   "metadata": {},
   "outputs": [
    {
     "name": "stdout",
     "output_type": "stream",
     "text": [
      "Writing contacts.txt\n"
     ]
    }
   ],
   "source": [
    "%%writefile contacts.txt\n",
    "First_Name Last_Name, Title, Extension, Email"
   ]
  },
  {
   "cell_type": "code",
   "execution_count": null,
   "id": "74fc615d-78d9-42a6-af50-6738c5854527",
   "metadata": {},
   "outputs": [],
   "source": [
    " "
   ]
  }
 ],
 "metadata": {
  "kernelspec": {
   "display_name": "Python [conda env:base] *",
   "language": "python",
   "name": "conda-base-py"
  },
  "language_info": {
   "codemirror_mode": {
    "name": "ipython",
    "version": 3
   },
   "file_extension": ".py",
   "mimetype": "text/x-python",
   "name": "python",
   "nbconvert_exporter": "python",
   "pygments_lexer": "ipython3",
   "version": "3.12.7"
  }
 },
 "nbformat": 4,
 "nbformat_minor": 5
}
